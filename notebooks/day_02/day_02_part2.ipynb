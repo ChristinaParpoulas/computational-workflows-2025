{
 "cells": [
  {
   "cell_type": "markdown",
   "metadata": {},
   "source": [
    "## Great, now that we discussed a little let's continue"
   ]
  },
  {
   "cell_type": "markdown",
   "metadata": {},
   "source": [
    "Given that the current approach utilized by the authors lacks reproducibility, we will explore an alternative method by leveraging nf-core pipelines for data analysis.\n",
    "\n",
    "Please explain, how we will achieve reproducibility for the course  with this approach.\n"
   ]
  },
  {
   "cell_type": "markdown",
   "metadata": {},
   "source": [
    "The authors decribe in their paper, which tooles were used for different steps in a RNAseq pipeline, however they miss e.g. versions of these tooles or performed preprocessing steps before alignment.\n",
    "\n",
    "By using available pipelines of nf-core the whole process will become more reproducible."
   ]
  },
  {
   "cell_type": "markdown",
   "metadata": {},
   "source": [
    "You have successfully downloaded 2 of the fastq files we will use in our study.\n",
    "\n",
    "What is the next step if we want to first have a count table and check the quality of our fastq files? What is the pipeline called to do so?"
   ]
  },
  {
   "cell_type": "markdown",
   "metadata": {},
   "source": [
    "The next required steps are:\n",
    "- FastQC to get the quality of the FastQ files\n",
    "- If trimming is possible, we have to trim the files at the ends of the reads to only have the reads portion with high quality\n",
    "- Then the reads have to be aligned to a reference genome (not specified in the paper, so we use just the most recent one GRCm39)\n",
    "- After this aligned reads have to be converted into count numbers for each gene of the annotated reference genome.\n",
    "\n",
    "In general there is only limited information on versions of tooles used or even the tools are not specified at all. This is why we will use the nf-core/rnaseq pipeline: https://nf-co.re/rnaseq/3.21.0/ .\n",
    "\n",
    "The pipeline takes a samplesheet with FASTQ files or pre-aligned BAM files as input, performs quality control (QC), trimming and (pseudo-)alignment, and produces a gene expression matrix and extensive QC report."
   ]
  },
  {
   "cell_type": "markdown",
   "metadata": {},
   "source": [
    "Analyze the 2 files using an nf-core pipeline.\n",
    "\n",
    "What does this pipeline do?\n",
    "\n",
    "Which are the main tools that will be used in the pipeline?"
   ]
  },
  {
   "cell_type": "markdown",
   "metadata": {},
   "source": [
    "\n",
    "1. Merge re-sequenced FastQ files (cat)\n",
    "2. Auto-infer strandedness by subsampling and pseudoalignment (fq, Salmon)\n",
    "3. Read QC (FastQC)\n",
    "4. UMI extraction (UMI-tools)\n",
    "5. Adapter and quality trimming (Trim Galore!)\n",
    "6. Removal of genome contaminants (BBSplit)\n",
    "7. Removal of ribosomal RNA (SortMeRNA)\n",
    "8. Choice of multiple alignment and quantification routes (For STAR the sentieon implementation can be chosen):\n",
    "        STAR -> Salmon  \n",
    "        STAR -> RSEM  \n",
    "        HiSAT2 -> NO QUANTIFICATION  \n",
    "    Since HiSAT2 was used in the paper, and we want to reproduce the paper as good as possible, we will also stick to this here.  \n",
    "9. Sort and index alignments (SAMtools)\n",
    "10. UMI-based deduplication (UMI-tools)\n",
    "11. Duplicate read marking (picard MarkDuplicates)\n",
    "12. Transcript assembly and quantification (StringTie)\n",
    "13. Create bigWig coverage files (BEDTools, bedGraphToBigWig)\n",
    "14. Extensive quality control:\n",
    "        RSeQC\n",
    "        Qualimap\n",
    "        dupRadar\n",
    "        Preseq\n",
    "        DESeq2\n",
    "        Kraken2 -> Bracken on unaligned sequences; optional\n",
    "15. Pseudoalignment and quantification (Salmon or ‘Kallisto’; optional)\n",
    "16. Present QC for raw read, alignment, gene biotype, sample similarity, and strand-specificity checks (MultiQC, R)\n"
   ]
  },
  {
   "cell_type": "markdown",
   "metadata": {},
   "source": [
    "As all other nf-core pipelines, the chosen pipeline takes in a samplesheet as input.\n",
    "\n",
    "Use Python and pandas to create the samplesheet for your 2 samples. Feel free to make use of the table you created earlier today.\n",
    "\n",
    "Choose your sample names wisely, they must be the connection of the results to the metadata. If you can't find the sample in the metadata later, the analysis was useless."
   ]
  },
  {
   "cell_type": "code",
   "execution_count": 1,
   "metadata": {},
   "outputs": [
    {
     "name": "stdout",
     "output_type": "stream",
     "text": [
      "        sample                                            fastq_1  \\\n",
      "0  SRX19144486  ./SRFetch_results/fastq/SRX19144486_SRR2319551...   \n",
      "1  SRX19144488  ./SRFetch_results/fastq/SRX19144488_SRR2319551...   \n",
      "\n",
      "                                             fastq_2 run_accession  \\\n",
      "0  ./SRFetch_results/fastq/SRX19144486_SRR2319551...   SRR23195516   \n",
      "1  ./SRFetch_results/fastq/SRX19144488_SRR2319551...   SRR23195511   \n",
      "\n",
      "  experiment_accession sample_accession secondary_sample_accession  \\\n",
      "0          SRX19144486     SAMN32880530                SRS16557078   \n",
      "1          SRX19144488     SAMN32880528                SRS16557080   \n",
      "\n",
      "  study_accession secondary_study_accession submission_accession  ...  \\\n",
      "0     PRJNA926667                 SRP418759           SRA1578893  ...   \n",
      "1     PRJNA926667                 SRP418759           SRA1578893  ...   \n",
      "\n",
      "  scientific_name sample_title  \\\n",
      "0    Mus musculus           H2   \n",
      "1    Mus musculus           C3   \n",
      "\n",
      "                                    experiment_title  \\\n",
      "0  Illumina HiSeq 2000 sequencing: GSM6958543: H2...   \n",
      "1  Illumina HiSeq 2000 sequencing: GSM6958545: C3...   \n",
      "\n",
      "                                         study_title sample_description  \\\n",
      "0  Oxycodone withdrawal induces HDAC1/2-dependent...                 H2   \n",
      "1  Oxycodone withdrawal induces HDAC1/2-dependent...                 C3   \n",
      "\n",
      "                                           fastq_md5            fastq_bytes  \\\n",
      "0  d04951f4200402f36d8f1830315a708f;29ada651e1b89...  1679266952;2010110161   \n",
      "1  337b9e2d8292d8a29a36bdb1dc80cca5;9a7c146f7304e...  1790266163;2208692744   \n",
      "\n",
      "                                           fastq_ftp  \\\n",
      "0  ftp.sra.ebi.ac.uk/vol1/fastq/SRR231/016/SRR231...   \n",
      "1  ftp.sra.ebi.ac.uk/vol1/fastq/SRR231/011/SRR231...   \n",
      "\n",
      "                                        fastq_galaxy  \\\n",
      "0  ftp.sra.ebi.ac.uk/vol1/fastq/SRR231/016/SRR231...   \n",
      "1  ftp.sra.ebi.ac.uk/vol1/fastq/SRR231/011/SRR231...   \n",
      "\n",
      "                                        fastq_aspera  \n",
      "0  fasp.sra.ebi.ac.uk:/vol1/fastq/SRR231/016/SRR2...  \n",
      "1  fasp.sra.ebi.ac.uk:/vol1/fastq/SRR231/011/SRR2...  \n",
      "\n",
      "[2 rows x 34 columns]\n"
     ]
    }
   ],
   "source": [
    "# prepare a samplesheet with your input data that looks as follows: samplesheet.csv:\n",
    "# sample,fastq_1,fastq_2,strandedness\n",
    "# CONTROL_REP1,AEG588A1_S1_L002_R1_001.fastq.gz,AEG588A1_S1_L002_R2_001.fastq.gz,auto\n",
    "# CONTROL_REP1,AEG588A1_S1_L003_R1_001.fastq.gz,AEG588A1_S1_L003_R2_001.fastq.gz,auto\n",
    "# CONTROL_REP1,AEG588A1_S1_L004_R1_001.fastq.gz,AEG588A1_S1_L004_R2_001.fastq.gz,auto\n",
    "\n",
    "# Samplesheet from fetchngs output adaptation to get the required format as described above\n",
    "import pandas as pd\n",
    "\n",
    "df = pd.read_csv(\"/home/chrissi/BioPrak/computational-workflows-2025/notebooks/day_02/SRR_data_fetch/samplesheet/samplesheet.csv\")\n",
    "\n",
    "print(df.head())"
   ]
  },
  {
   "cell_type": "code",
   "execution_count": 7,
   "metadata": {},
   "outputs": [
    {
     "name": "stdout",
     "output_type": "stream",
     "text": [
      "     sample                                            fastq_1  \\\n",
      "0   Oxy_SNI  ./SRR_data_fetch/fastq/SRX19144486_SRR23195516...   \n",
      "1  Oxy_Sham  ./SRR_data_fetch/fastq/SRX19144488_SRR23195511...   \n",
      "\n",
      "                                             fastq_2 strandedness  \n",
      "0  ./SRR_data_fetch/fastq/SRX19144486_SRR23195516...         auto  \n",
      "1  ./SRR_data_fetch/fastq/SRX19144488_SRR23195511...         auto  \n",
      "Samplesheet for nf-core/rnaseq pipeline created.\n"
     ]
    }
   ],
   "source": [
    "# Filter the file for the first 3 columns and add the strandedness column with \"auto\" value\n",
    "df_final = df.iloc[:, :3]\n",
    "df_final[\"strandedness\"] = \"auto\"\n",
    "\n",
    "# Since FastQ files were copied from a Peer and not downloaded directly from SRA, the filepaths are different\n",
    "# Adjust paths manually here:\n",
    "df_final[\"fastq_1\"] = df[\"fastq_1\"].str.replace(\"./SRFetch_results/fastq/\",\n",
    "                                                \"./SRR_data_fetch/fastq/\")\n",
    "df_final[\"fastq_2\"] = df[\"fastq_2\"].str.replace(\"./SRFetch_results/fastq/\",\n",
    "                                                \"./SRR_data_fetch/fastq/\")\n",
    "\n",
    "# To choose indicative samplenames for the two samples, adjust the samplesheet:\n",
    "# Patient  RNA-seq  DNA-seq Condition Genotype       Bases\n",
    "# Run                                                                 \n",
    "# SRR23195516       ?     True    False       Oxy      SNI  6203117700 -> SRX19144486\n",
    "# SRR23195511       ?     True    False       Oxy     Sham  6456390900 -> SRX19144488\n",
    "\n",
    "# Rename the sample column:\n",
    "df_final.loc[df_final['sample'].str.contains('SRX19144486'), 'sample'] = 'Oxy_SNI'\n",
    "df_final.loc[df_final['sample'].str.contains('SRX19144488'), 'sample'] = 'Oxy_Sham'\n",
    "\n",
    "print(df_final.head())\n",
    "\n",
    "df_final.to_csv(\"/home/chrissi/BioPrak/computational-workflows-2025/notebooks/day_02/SRR_data_fetch/samplesheet_rnaseq.csv\", index=False)\n",
    "\n",
    "print(\"Samplesheet for nf-core/rnaseq pipeline created.\")"
   ]
  },
  {
   "cell_type": "code",
   "execution_count": 14,
   "metadata": {},
   "outputs": [
    {
     "name": "stdout",
     "output_type": "stream",
     "text": [
      "     sample                                            fastq_1  \\\n",
      "0   Oxy_SNI  './SRR_data_fetch/fastq/SRX19144486_SRR2319551...   \n",
      "1  Oxy_Sham  './SRR_data_fetch/fastq/SRX19144488_SRR2319551...   \n",
      "\n",
      "                                             fastq_2 strandedness  \n",
      "0  './SRR_data_fetch/fastq/SRX19144486_SRR2319551...         auto  \n",
      "1  './SRR_data_fetch/fastq/SRX19144488_SRR2319551...         auto  \n",
      "Samplesheet for nf-core/rnaseq pipeline created.\n"
     ]
    }
   ],
   "source": [
    "# When trying to run nextflow nf-core/rnaseq, the sample file paths could not be found properly:\n",
    "\n",
    "import pandas as pd\n",
    "\n",
    "df_final_readin = pd.read_csv(\"/home/chrissi/BioPrak/computational-workflows-2025/notebooks/day_02/SRR_data_fetch/samplesheet_rnaseq.csv\")\n",
    "df_final_readin[\"fastq_1\"] = df_final_readin[\"fastq_1\"].apply(lambda x: f\"'{x}'\")\n",
    "df_final_readin[\"fastq_2\"] = df_final_readin[\"fastq_2\"].apply(lambda x: f\"'{x}'\")\n",
    "\n",
    "print(df_final_readin.head())\n",
    "\n",
    "df_final.to_csv(\"/home/chrissi/BioPrak/computational-workflows-2025/notebooks/day_02/SRR_data_fetch/samplesheet_rnaseq.csv\", index=False)\n",
    "\n",
    "print(\"Samplesheet for nf-core/rnaseq pipeline created.\")"
   ]
  },
  {
   "cell_type": "code",
   "execution_count": null,
   "metadata": {},
   "outputs": [],
   "source": [
    "# post here the command you used to run nf-core/rnaseq\n",
    "\n",
    "# Manually search for a suitable GTF and genome FASTA file for the mouse genome GRCm39\n",
    "# (https://www.gencodegenes.org/mouse/release_M10.html)\n",
    "!nextflow run nf-core/rnaseq \\\n",
    "    --input '/home/chrissi/BioPrak/computational-workflows-2025/notebooks/day_02/SRR_data_fetch/samplesheet_rnaseq.csv' \\\n",
    "    --outdir './rnaseq_output' \\\n",
    "    --gtf '/home/chrissi/BioPrak/computational-workflows-2025/notebooks/day_02/SRR_data_fetch/gencode.vM10.chr_patch_hapl_scaff.annotation.gtf.gz' \\\n",
    "    --fasta '/home/chrissi/BioPrak/computational-workflows-2025/notebooks/day_02/SRR_data_fetch/GRCm38.p4.genome.fa.gz' \\ \n",
    "    -profile docker\n",
    "\n",
    "# Still the pipeline is not able to fined the FastQ files, even though the paths are correct."
   ]
  },
  {
   "cell_type": "markdown",
   "metadata": {},
   "source": [
    "Explain all the parameters you set and why you set them in this way.\n",
    "\n"
   ]
  },
  {
   "cell_type": "markdown",
   "metadata": {},
   "source": [
    "--input: to specify the samplesheet  \n",
    "--gtf: download the annotationfile for the mouse genome (website specified above) and reference it here  \n",
    "--fasta: download the fasta-file for the mouse genome (website specified above) and reference it here  \n",
    "'- profile docker: to run it in Docker  "
   ]
  },
  {
   "cell_type": "markdown",
   "metadata": {},
   "source": [
    "## Browsing the results"
   ]
  },
  {
   "cell_type": "markdown",
   "metadata": {},
   "source": [
    "How did the pipeline perform?"
   ]
  },
  {
   "cell_type": "markdown",
   "metadata": {},
   "source": [
    "Since we were not able to run the pipeline, it was not possible to evaluate the performance of the pipeline."
   ]
  },
  {
   "cell_type": "markdown",
   "metadata": {},
   "source": [
    "Explain the quality control steps. Are you happy with the quality and why. If not, why not.\n",
    "Please give additional information on : \n",
    "- ribosomal rRNA\n",
    "- Duplication\n",
    "- GC content\n",
    "\n",
    "What are the possible steps that could lead to poorer results?"
   ]
  },
  {
   "cell_type": "markdown",
   "metadata": {},
   "source": [
    "We together had a look at the FastQC and found that 2 samples failed the Quality control."
   ]
  },
  {
   "cell_type": "markdown",
   "metadata": {},
   "source": [
    "Would you exclude any samples? If yes, which and why?"
   ]
  },
  {
   "cell_type": "markdown",
   "metadata": {},
   "source": [
    "The QC failed samples could be excluded because bad quality will affect the downstream analysis. Hoswever this has to be considered very wisely."
   ]
  },
  {
   "cell_type": "markdown",
   "metadata": {},
   "source": [
    "What would you now do to continue the experiment? What are the scientists trying to figure out? Which packages on R or python would you use?"
   ]
  },
  {
   "cell_type": "markdown",
   "metadata": {},
   "source": [
    "We can have a look the differential abundance of genes among different groups and try to correlate these DEGs to for example biological pathways.  \n",
    "For this we can use DESeq2 and GSEA."
   ]
  }
 ],
 "metadata": {
  "kernelspec": {
   "display_name": "workflows",
   "language": "python",
   "name": "python3"
  },
  "language_info": {
   "codemirror_mode": {
    "name": "ipython",
    "version": 3
   },
   "file_extension": ".py",
   "mimetype": "text/x-python",
   "name": "python",
   "nbconvert_exporter": "python",
   "pygments_lexer": "ipython3",
   "version": "3.13.7"
  }
 },
 "nbformat": 4,
 "nbformat_minor": 2
}
