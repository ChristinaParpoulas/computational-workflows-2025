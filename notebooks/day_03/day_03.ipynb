{
 "cells": [
  {
   "cell_type": "markdown",
   "metadata": {},
   "source": [
    "# Differential expression analysis\n"
   ]
  },
  {
   "cell_type": "markdown",
   "metadata": {},
   "source": [
    "You have run the nf-core/rnaseq pipeline and checked the first quality control metrics of your fastq files. This was, however, only the primary analysis and we want to take it further.\n",
    "\n",
    "Due to the computational demand of the pipeline, you only ran the pipeline on two of the 16 samples in the study yesterday. We provide you an essential output of nf-core/rnaseq pipeline in the `data` folder: It contains the combined epression matrix as produced by Salmon, which provides transcript levels for each gene (rows) and each sample (columns).\n"
   ]
  },
  {
   "cell_type": "markdown",
   "metadata": {},
   "source": [
    "We would now like to understand exactly the difference between the expression in our groups of mice. \n",
    "Which pipeline would you use for this?"
   ]
  },
  {
   "cell_type": "markdown",
   "metadata": {
    "vscode": {
     "languageId": "shellscript"
    }
   },
   "source": [
    "We could use the nf-core/differentialabundance pipeline. This one computes DEGs and GSEA.  \n",
    "\n",
    "1. Optionally generate a list of genomic feature annotations using the input GTF file (if a table is not explicitly supplied).\n",
    "2. Cross-check matrices, sample annotations, feature set and contrasts to ensure consistency.\n",
    "3. Run differential analysis over all contrasts specified.\n",
    "4. Optionally run a differential gene set analysis.\n",
    "5. Generate exploratory and differential analysis plots for interpretation.\n",
    "6. Optionally build and (if specified) deploy a Shiny app for fully interactive mining of results.\n",
    "7. Build an HTML report based on R markdown, with interactive plots (where possible) and tables.\n"
   ]
  },
  {
   "cell_type": "markdown",
   "metadata": {},
   "source": [
    "Have a close look at the pipeline's \"Usage\" page on the [nf-core docs](nf-co.re). You will need to create a samplesheet (based on the column names in the provided matrix)."
   ]
  },
  {
   "cell_type": "code",
   "execution_count": 27,
   "metadata": {},
   "outputs": [
    {
     "name": "stdout",
     "output_type": "stream",
     "text": [
      "              gene_id gene_name  Sham_oxy_1  Sham_oxy_2  Sham_oxy_3  \\\n",
      "0  ENSMUSG00000000001     Gnai3        69.0       294.0       259.0   \n",
      "1  ENSMUSG00000000003      Pbsn         0.0         0.0         0.0   \n",
      "2  ENSMUSG00000000028     Cdc45         1.0        10.0         2.0   \n",
      "3  ENSMUSG00000000031       H19         0.0         0.0         0.0   \n",
      "4  ENSMUSG00000000037     Scml2        12.0        21.0        12.0   \n",
      "\n",
      "   Sham_oxy_4  Sham_Sal_1  Sham_Sal_2  Sham_Sal_3  Sham_Sal_4  SNI_oxy_1  \\\n",
      "0       444.0       242.0       651.0       622.0       406.0      383.0   \n",
      "1         0.0         0.0         0.0         0.0         0.0        0.0   \n",
      "2         6.0        15.0        15.0        22.0        12.0        9.0   \n",
      "3         0.0         0.0         1.0         0.0         0.0        0.0   \n",
      "4        18.0         9.0        24.0        36.0        19.0       18.0   \n",
      "\n",
      "   SNI_oxy_2  SNI_oxy_3  SNI_oxy_4  SNI_Sal_1  SNI_Sal_2  SNI_Sal_3  SNI_Sal_4  \n",
      "0      518.0      349.0      281.0      471.0       46.0      230.0       79.0  \n",
      "1        0.0        0.0        0.0        0.0        0.0        0.0        0.0  \n",
      "2       15.0        9.0        8.0       12.0        6.0        5.0        5.0  \n",
      "3        0.0        0.0        0.0        3.0        0.0        0.0        0.0  \n",
      "4       26.0       20.0       23.0       26.0        2.0       13.0        1.0  \n"
     ]
    }
   ],
   "source": [
    "import pandas as pd\n",
    "\n",
    "# Read gene counts\n",
    "df = pd.read_csv(\"/home/chrissi/BioPrak/computational-workflows-2025/notebooks/day_03/data/salmon.merged.gene_counts.tsv\", sep=\"\\t\")\n",
    "print(df.head())"
   ]
  },
  {
   "cell_type": "code",
   "execution_count": 28,
   "metadata": {},
   "outputs": [
    {
     "name": "stdout",
     "output_type": "stream",
     "text": [
      "['gene_id', 'gene_name', 'Sham_oxy_1', 'Sham_oxy_2', 'Sham_oxy_3', 'Sham_oxy_4', 'Sham_Sal_1', 'Sham_Sal_2', 'Sham_Sal_3', 'Sham_Sal_4', 'SNI_oxy_1', 'SNI_oxy_2', 'SNI_oxy_3', 'SNI_oxy_4', 'SNI_Sal_1', 'SNI_Sal_2', 'SNI_Sal_3', 'SNI_Sal_4']\n",
      "['gene', 'gene', 'Sham_oxy', 'Sham_oxy', 'Sham_oxy', 'Sham_oxy', 'Sham_Sal', 'Sham_Sal', 'Sham_Sal', 'Sham_Sal', 'SNI_oxy', 'SNI_oxy', 'SNI_oxy', 'SNI_oxy', 'SNI_Sal', 'SNI_Sal', 'SNI_Sal', 'SNI_Sal']\n",
      "['id', 'name', '1', '2', '3', '4', '1', '2', '3', '4', '1', '2', '3', '4', '1', '2', '3', '4']\n"
     ]
    }
   ],
   "source": [
    "# Creates variables for samplesheet\n",
    "col_list = df.columns.tolist()\n",
    "print(col_list)\n",
    "\n",
    "condition = [col.rsplit(\"_\", 1)[0] for col in df.columns]\n",
    "print(condition)\n",
    "\n",
    "replicate = [col.rsplit(\"_\", 1)[1] for col in df.columns]\n",
    "print(replicate)    \n"
   ]
  },
  {
   "cell_type": "code",
   "execution_count": 37,
   "metadata": {},
   "outputs": [
    {
     "name": "stdout",
     "output_type": "stream",
     "text": [
      "        sample Condition replicate\n",
      "2   Sham_oxy_1  Sham_oxy         1\n",
      "3   Sham_oxy_2  Sham_oxy         2\n",
      "4   Sham_oxy_3  Sham_oxy         3\n",
      "5   Sham_oxy_4  Sham_oxy         4\n",
      "6   Sham_Sal_1  Sham_Sal         1\n",
      "7   Sham_Sal_2  Sham_Sal         2\n",
      "8   Sham_Sal_3  Sham_Sal         3\n",
      "9   Sham_Sal_4  Sham_Sal         4\n",
      "10   SNI_oxy_1   SNI_oxy         1\n",
      "11   SNI_oxy_2   SNI_oxy         2\n",
      "12   SNI_oxy_3   SNI_oxy         3\n",
      "13   SNI_oxy_4   SNI_oxy         4\n",
      "14   SNI_Sal_1   SNI_Sal         1\n",
      "15   SNI_Sal_2   SNI_Sal         2\n",
      "16   SNI_Sal_3   SNI_Sal         3\n",
      "17   SNI_Sal_4   SNI_Sal         4\n"
     ]
    }
   ],
   "source": [
    "# Samplesheet has to look like this:\n",
    "# sample,fastq_1,fastq_2,condition,replicate(,batch?)\n",
    "# CONTROL_REP1,AEG588A1_S1_L002_R1_001.fastq.gz,AEG588A1_S1_L002_R2_001.fastq.gz,control,1,A\n",
    "# CONTROL_REP2,AEG588A1_S1_L003_R1_001.fastq.gz,AEG588A1_S1_L003_R2_001.fastq.gz,control,2,B\n",
    "# Change fq-file refernce to Column-header in gene counts file\n",
    "\n",
    "samplesheet = pd.DataFrame({\n",
    "    \"sample\": col_list,\n",
    "    \"Condition\": condition,\n",
    "    \"replicate\": replicate\n",
    "})\n",
    "#print(samplesheet)\n",
    "\n",
    "samplesheet_new = samplesheet.drop([0, 1])\n",
    "print(samplesheet_new)\n",
    "\n",
    "samplesheet_new.to_csv(\"/home/chrissi/BioPrak/computational-workflows-2025/notebooks/day_03/data/samplesheet_DEGs.csv\", index=False)"
   ]
  },
  {
   "cell_type": "code",
   "execution_count": 38,
   "metadata": {},
   "outputs": [
    {
     "name": "stdout",
     "output_type": "stream",
     "text": [
      "                               id   variable reference    target\n",
      "0       condition_control_treated  Condition   SNI_Sal   SNI_oxy\n",
      "1  condition_control_treated_test  Condition  Sham_Sal  Sham_oxy\n"
     ]
    }
   ],
   "source": [
    "contrasts_df = pd.read_csv(\"/home/chrissi/BioPrak/computational-workflows-2025/notebooks/day_03/data/contrasts.csv\", sep=\",\")\n",
    "print(contrasts_df)"
   ]
  },
  {
   "cell_type": "markdown",
   "metadata": {},
   "source": [
    "Please paste here the command you used. You may need to inspect the provided expression matrix more closely and create additional files, like a samplesheet (based on the column names) or a contrast file (there happens to also be one in `data/` that you can use)."
   ]
  },
  {
   "cell_type": "code",
   "execution_count": null,
   "metadata": {},
   "outputs": [],
   "source": [
    "!nextflow run nf-core/differentialabundance -r 1.5.0 \\\n",
    "     --input ./notebooks/day_03/data/samplesheet_DEGs.csv \\\n",
    "     --contrasts ./notebooks/day_03/data/contrasts.csv \\\n",
    "     --matrix ./notebooks/day_03/data/salmon.merged.gene_counts.tsv \\\n",
    "     --outdir ./notebooks/day_03/DEG_output \\\n",
    "     -profile docker \\\n",
    "     --max_memory \"4.GB\" \\\n",
    "    -resume"
   ]
  },
  {
   "cell_type": "markdown",
   "metadata": {},
   "source": [
    "Explain all the parameters you set and why you set them in this way. If you used or created additional files as input, explain what they are used for."
   ]
  },
  {
   "cell_type": "markdown",
   "metadata": {},
   "source": [
    "As already mentioned above the samplesheet had to be created according to the codntions provided in the data. We have to make sure, that the Condition columnname in the samplesheet matches the \"Condition\" entry within the contrasts.csv (both Conditions have to be with capital C).  \n",
    "Since we do not use Fasta-files, but only the counts_matrix, we also do not need to include a gtf-file for mapping (leave --gtf otpion recommendes from the website out).  \n",
    "Since in a first run during plotting I got an memory error, I put the --max_memory parameter and did -resume, to make it run through.\n"
   ]
  },
  {
   "cell_type": "markdown",
   "metadata": {},
   "source": [
    "What were the outputs of the pipeline?"
   ]
  },
  {
   "cell_type": "markdown",
   "metadata": {},
   "source": [
    "The pipeline output were calculated DEGs after normalization, variance stabilization and PCA analysis, from the 2 comparisons we put in the contrasts-file, witch volcano plots to visualize results and also some tables and exporatory results.  \n",
    "Additional a results report is available as html, which shows summarized the output from the pipeline."
   ]
  },
  {
   "cell_type": "markdown",
   "metadata": {},
   "source": [
    "Would you exclude any samples? If yes, which and why?"
   ]
  },
  {
   "cell_type": "markdown",
   "metadata": {},
   "source": [
    "When you have a look at the suty report html and evaluate the different steps from the pipeline it is obvious that the samples SIN_Sal_2 and SIN_Sal_4 are completely off in the PCA and Dendogram, which might hint towards some practical issues?  \n",
    "Since the MultiQC report is based on the rnaseq-out-small and not for the used data, we took to for the gene counts matrix for the nf-core/differentialabundance pipeline, we cannot have a look at the sample quality to doublecheck.  \n",
    "However it is quite likely that these two samples failing the QC report are also the two samples that look off in the PCA diagrams."
   ]
  },
  {
   "cell_type": "markdown",
   "metadata": {},
   "source": [
    "How many genes were differentially expressed in each contrast? Does this confirm what the paper mentions?"
   ]
  },
  {
   "cell_type": "markdown",
   "metadata": {},
   "source": [
    "Differential gene (target relative to reference):  \n",
    "For Condition SNI_oxy versus SNI_Sal, we get 1 upregulated and 17 downregulated genes.  \n",
    "For Condition Sham_oxy versus Sham_Sal, we get 7 upregulated and 0 downregulated genes.  \n",
    "These are way less genes compared to the paper. This might be due to different settings.  \n",
    "\n",
    "-> Check paper settings: (Copied from paper Methods section)  \n",
    "Differential analysis aimed at dissecting oxycodone withdrawal versus saline treatment effects in SNI and sham mice was performed using a 2 × 2 factorial design with the following formula: log(exp) ∼ SNI + oxycodone + SNI: oxycodone. The differential lists were defined by a P-value cutoff < 0.05 and log2(fold change) <−0.5 or >0.5. Only terms with P value < 0.05 were reported. "
   ]
  },
  {
   "cell_type": "markdown",
   "metadata": {},
   "source": [
    "The paper mentions differentially expressed genes in three brain regions : the NAc, mPFC and VTA. Briefly explain what these 3 regions are."
   ]
  },
  {
   "cell_type": "markdown",
   "metadata": {},
   "source": [
    "Nucleus Accumbens (NAc):  \n",
    "- Location: Part of the ventral striatum in the basal ganglia.\n",
    "- Function: Central to the brain's reward system. Regulates motivation, pleasure, reinforcement learning, and is heavily involved in addiction and drug-seeking behaviors.\n",
    "- Role in opioid use/pain: Processes reward signals from opioids and natural rewards; chronic pain can alter its activity.  \n",
    "\n",
    "Medial Prefrontal Cortex (mPFC):\n",
    "- Location: Frontal lobe, at the front and middle of the brain.\n",
    "- Function: Involved in decision-making, executive function, emotional regulation, and planning. Helps evaluate risks and rewards and control impulses.\n",
    "- Role in opioid use/pain: Integrates reward signals from the NAc and VTA, modulates behavioral responses to pain and drugs, and contributes to craving and relapse.  \n",
    "\n",
    "Ventral Tegmental Area (VTA):\n",
    "- Location: Midbrain, near the substantia nigra.\n",
    "- Function: Source of dopaminergic neurons that project to NAc, mPFC, and other limbic regions. Key for reward, motivation, and reinforcement learning.\n",
    "- Role in opioid use/pain: Dopamine release from the VTA drives reward-related signaling and reinforcement; altered by chronic pain and prolonged opioid exposure."
   ]
  },
  {
   "cell_type": "markdown",
   "metadata": {},
   "source": [
    "Is there anyway from the paper and the material and methods for us to know which genes are included in these regions?"
   ]
  },
  {
   "cell_type": "markdown",
   "metadata": {},
   "source": [
    "No, they just mention the used thresholds fro their analysis with DESeq2, however do not provide any DEG outputs as usually done in other papers within supplementary data.  \n",
    "At the \"Data availability\" section the authors mention \"Other data from this study can be made available upon request.\"."
   ]
  },
  {
   "cell_type": "code",
   "execution_count": null,
   "metadata": {},
   "outputs": [
    {
     "name": "stdout",
     "output_type": "stream",
     "text": [
      "        sample Condition replicate\n",
      "2   Sham_oxy_1  Sham_oxy         1\n",
      "3   Sham_oxy_2  Sham_oxy         2\n",
      "4   Sham_oxy_3  Sham_oxy         3\n",
      "5   Sham_oxy_4  Sham_oxy         4\n",
      "6   Sham_Sal_1  Sham_Sal         1\n",
      "7   Sham_Sal_2  Sham_Sal         2\n",
      "8   Sham_Sal_3  Sham_Sal         3\n",
      "9   Sham_Sal_4  Sham_Sal         4\n",
      "10   SNI_oxy_1   SNI_oxy         1\n",
      "11   SNI_oxy_2   SNI_oxy         2\n",
      "12   SNI_oxy_3   SNI_oxy         3\n",
      "13   SNI_oxy_4   SNI_oxy         4\n",
      "14   SNI_Sal_1   SNI_Sal         1\n",
      "16   SNI_Sal_3   SNI_Sal         2\n"
     ]
    }
   ],
   "source": [
    "# Re-run pipeline with excluded samples\n",
    "\n",
    "# Adjust sample sheet accordingly (exclude SIN_Sal_2 and SIN_Sal_4)\n",
    "\n",
    "samplesheet_excluded = samplesheet.drop([0, 1, 15, 17])\n",
    "samplesheet_excluded.loc[samplesheet_excluded[\"sample\"] == \"SNI_Sal_3\", \"replicate\"] = 2\n",
    "print(samplesheet_excluded)\n",
    "\n",
    "samplesheet_excluded.to_csv(\"/home/chrissi/BioPrak/computational-workflows-2025/notebooks/day_03/data/samplesheet_DEGs_excluded.csv\", index=False)  \n"
   ]
  },
  {
   "cell_type": "code",
   "execution_count": null,
   "metadata": {},
   "outputs": [],
   "source": [
    "!nextflow run nf-core/differentialabundance -r 1.5.0 \\\n",
    "     --input ./notebooks/day_03/data/samplesheet_DEGs_excluded.csv \\\n",
    "     --contrasts ./notebooks/day_03/data/contrasts.csv \\\n",
    "     --matrix ./notebooks/day_03/data/salmon.merged.gene_counts.tsv \\\n",
    "     --outdir ./notebooks/day_03/DEG_output_excluded \\\n",
    "     -profile docker \\\n",
    "     --max_memory \"4.GB\""
   ]
  },
  {
   "cell_type": "markdown",
   "metadata": {},
   "source": [
    "Once you have your list of differentially expressed genes, do you think just communicating those to the biologists would be sufficient? What does the publication state?"
   ]
  },
  {
   "cell_type": "markdown",
   "metadata": {},
   "source": [
    "Please reproduce the Venn Diagram from Figure 3, not taking into account the brain regions but just the contrasts mentionned."
   ]
  }
 ],
 "metadata": {
  "kernelspec": {
   "display_name": "workflows",
   "language": "python",
   "name": "python3"
  },
  "language_info": {
   "codemirror_mode": {
    "name": "ipython",
    "version": 3
   },
   "file_extension": ".py",
   "mimetype": "text/x-python",
   "name": "python",
   "nbconvert_exporter": "python",
   "pygments_lexer": "ipython3",
   "version": "3.13.7"
  }
 },
 "nbformat": 4,
 "nbformat_minor": 2
}
